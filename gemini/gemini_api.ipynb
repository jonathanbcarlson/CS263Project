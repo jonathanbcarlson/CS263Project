{
 "cells": [
  {
   "cell_type": "code",
   "execution_count": 44,
   "id": "63ba837c-ccfa-4fa6-a013-67ee6cc2bf62",
   "metadata": {},
   "outputs": [],
   "source": [
    "import google.generativeai as genai\n",
    "import os\n",
    "import json\n",
    "import time"
   ]
  },
  {
   "cell_type": "code",
   "execution_count": 45,
   "id": "d9e8dee2-7f13-4bef-94ae-ed6a97456f0a",
   "metadata": {},
   "outputs": [],
   "source": [
    "genai.configure(api_key=os.environ[\"GOOGLE_API_KEY\"])"
   ]
  },
  {
   "cell_type": "code",
   "execution_count": 46,
   "id": "cab33e06-6732-4bed-881b-1fba28523655",
   "metadata": {},
   "outputs": [
    {
     "name": "stdout",
     "output_type": "stream",
     "text": [
      "models/gemini-1.0-pro\n",
      "models/gemini-1.0-pro-001\n",
      "models/gemini-1.0-pro-latest\n",
      "models/gemini-1.0-pro-vision-latest\n",
      "models/gemini-1.5-flash\n",
      "models/gemini-1.5-flash-001\n",
      "models/gemini-1.5-flash-latest\n",
      "models/gemini-1.5-pro\n",
      "models/gemini-1.5-pro-001\n",
      "models/gemini-1.5-pro-latest\n",
      "models/gemini-pro\n",
      "models/gemini-pro-vision\n"
     ]
    }
   ],
   "source": [
    "for m in genai.list_models():\n",
    "  if 'generateContent' in m.supported_generation_methods:\n",
    "    print(m.name)"
   ]
  },
  {
   "cell_type": "code",
   "execution_count": 48,
   "id": "2e59b115-ad7b-4bd9-9317-0bc9742ebec6",
   "metadata": {},
   "outputs": [],
   "source": [
    "model_name = \"gemini-1.5-pro\"\n",
    "model = genai.GenerativeModel(model_name=model_name)\n",
    "\n",
    "delay_seconds = 31"
   ]
  },
  {
   "cell_type": "markdown",
   "id": "db3f9a8c-3f52-452a-9d63-26a7c635bdf0",
   "metadata": {},
   "source": [
    "## Physical Temporal"
   ]
  },
  {
   "cell_type": "code",
   "execution_count": 49,
   "id": "e447bf84-89f5-454e-b2aa-a7c2bbb842ac",
   "metadata": {},
   "outputs": [
    {
     "name": "stdout",
     "output_type": "stream",
     "text": [
      "Gemini: 3 Human: 3\n",
      "Gemini: 1 Human: 1\n",
      "Gemini: 3 Human: 3\n",
      "Gemini: 1 Human: 1\n",
      "Gemini: 1 Human: 1\n",
      "Gemini: 3 Human: 3\n",
      "Gemini: 4 Human: 4\n",
      "Gemini: 2 Human: 2\n",
      "Gemini: 1 Human: 1\n",
      "Gemini: 3 Human: 3\n",
      "Gemini: 1 Human: 1\n",
      "Gemini: 2 Human: 2\n",
      "Gemini: 4 Human: 4\n"
     ]
    }
   ],
   "source": [
    "with open(\"../physical-temporal/physical-temporal.json\") as f:\n",
    "    physical_temporal_prompts = json.load(f)\n",
    "    for entry in physical_temporal_prompts:\n",
    "        response = model.generate_content(entry[\"prompt\"])\n",
    "        entry[\"responses\"][model_name] = response.text.strip()\n",
    "        print(\"Gemini:\", response.text.strip(), \"Human:\", entry[\"human_annotation\"])\n",
    "        time.sleep(delay_seconds)"
   ]
  },
  {
   "cell_type": "code",
   "execution_count": 50,
   "id": "9da83321-c9ba-40a6-9603-c5e2a5bb71b6",
   "metadata": {},
   "outputs": [],
   "source": [
    "with open(\"../physical-temporal/physical-temporal.json\", \"w\", encoding=\"utf-8\") as output_file:\n",
    "    json.dump(physical_temporal_prompts, output_file, indent=2, ensure_ascii=False)"
   ]
  },
  {
   "cell_type": "markdown",
   "id": "d93980dd-8f7a-4c43-bc5e-1293124689e7",
   "metadata": {},
   "source": [
    "## Spatial Temporal"
   ]
  },
  {
   "cell_type": "code",
   "execution_count": 51,
   "id": "ec87b26d-96d9-4f32-a93b-40793e0851d4",
   "metadata": {},
   "outputs": [
    {
     "name": "stdout",
     "output_type": "stream",
     "text": [
      "Gemini: 1 Human: 1\n",
      "Gemini: 3 Human: 3\n",
      "Gemini: 3 Human: 3\n",
      "Gemini: 4 Human: 4\n",
      "Gemini: 2 Human: 2\n",
      "Gemini: 1 Human: 1\n",
      "Gemini: 2 Human: 1\n",
      "Gemini: 2 Human: 3\n",
      "Gemini: 4 Human: 1\n",
      "Gemini: 3 Human: 3\n",
      "Gemini: 2 Human: 4\n",
      "Gemini: 2 Human: 2\n",
      "Gemini: 4 Human: 4\n",
      "Gemini: 3 Human: 3\n"
     ]
    }
   ],
   "source": [
    "with open(\"../spatial-temporal/spatial-temporal.json\") as f:\n",
    "    spatial_temporal_prompts = json.load(f)\n",
    "    for entry in spatial_temporal_prompts:\n",
    "        response = model.generate_content(entry[\"prompt\"])\n",
    "        entry[\"responses\"][model_name] = response.text.strip()\n",
    "        print(\"Gemini:\", response.text.strip(), \"Human:\", entry[\"human_annotation\"])\n",
    "        time.sleep(delay_seconds)"
   ]
  },
  {
   "cell_type": "code",
   "execution_count": 52,
   "id": "9a0e5f93-3c82-4cd5-ac3f-fab997fe4135",
   "metadata": {},
   "outputs": [],
   "source": [
    "with open(\"../spatial-temporal/spatial-temporal.json\", \"w\", encoding=\"utf-8\") as output_file:\n",
    "    json.dump(spatial_temporal_prompts, output_file, indent=2, ensure_ascii=False)"
   ]
  },
  {
   "cell_type": "markdown",
   "id": "98ff9257-4b37-49e3-858b-f46676ed812e",
   "metadata": {},
   "source": [
    "# Spatial Physical"
   ]
  },
  {
   "cell_type": "code",
   "execution_count": 53,
   "id": "8b36b0cc-cf6d-42fa-bf13-102f002b747b",
   "metadata": {},
   "outputs": [
    {
     "name": "stdout",
     "output_type": "stream",
     "text": [
      "Gemini: 1 Human: 4\n",
      "Gemini: 1 Human: 1\n",
      "Gemini: 4 Human: 1\n",
      "Gemini: 1 Human: 1\n",
      "Gemini: 1 Human: 4\n",
      "Gemini: 1 Human: 3\n",
      "Gemini: 2 Human: 2\n",
      "Gemini: 2 Human: 1\n",
      "Gemini: 2 Human: 2\n",
      "Gemini: 4 Human: 4\n",
      "Gemini: 1 Human: 1\n",
      "Gemini: 2 Human: 1\n",
      "Gemini: 2 Human: 2\n",
      "Gemini: 2 Human: 1\n"
     ]
    }
   ],
   "source": [
    "with open(\"../spatial-physical/spatial-physical.json\") as f:\n",
    "    spatial_physical_prompts = json.load(f)\n",
    "    for entry in spatial_physical_prompts:\n",
    "        response = model.generate_content(entry[\"prompt\"])\n",
    "        entry[\"responses\"][model_name] = response.text.strip()\n",
    "        print(\"Gemini:\", response.text.strip(), \"Human:\", entry[\"human_annotation\"])\n",
    "        time.sleep(delay_seconds)"
   ]
  },
  {
   "cell_type": "code",
   "execution_count": 54,
   "id": "0267b971-63eb-4ff3-bb05-3618d13d389e",
   "metadata": {},
   "outputs": [],
   "source": [
    "with open(\"../spatial-physical/spatial-physical.json\", \"w\", encoding=\"utf-8\") as output_file:\n",
    "    json.dump(spatial_physical_prompts, output_file, indent=2, ensure_ascii=False)"
   ]
  },
  {
   "cell_type": "markdown",
   "id": "32fe8e30-2ca6-47f5-9895-0331caf9a1da",
   "metadata": {},
   "source": [
    "## Spatial Temporal Physical"
   ]
  },
  {
   "cell_type": "code",
   "execution_count": 55,
   "id": "22963ac7-6c36-414e-b4b1-566635495b9a",
   "metadata": {},
   "outputs": [
    {
     "name": "stdout",
     "output_type": "stream",
     "text": [
      "Gemini: 2 Human: 4\n"
     ]
    },
    {
     "ename": "ValueError",
     "evalue": "The `response.text` quick accessor only works when the response contains a valid `Part`, but none was returned. Check the `candidate.safety_ratings` to see if the response was blocked.",
     "output_type": "error",
     "traceback": [
      "\u001b[0;31m---------------------------------------------------------------------------\u001b[0m",
      "\u001b[0;31mValueError\u001b[0m                                Traceback (most recent call last)",
      "Cell \u001b[0;32mIn[55], line 5\u001b[0m\n\u001b[1;32m      3\u001b[0m \u001b[38;5;28;01mfor\u001b[39;00m entry \u001b[38;5;129;01min\u001b[39;00m spatial_temporal_physical_prompts:\n\u001b[1;32m      4\u001b[0m     response \u001b[38;5;241m=\u001b[39m model\u001b[38;5;241m.\u001b[39mgenerate_content(entry[\u001b[38;5;124m\"\u001b[39m\u001b[38;5;124mprompt\u001b[39m\u001b[38;5;124m\"\u001b[39m])\n\u001b[0;32m----> 5\u001b[0m     entry[\u001b[38;5;124m\"\u001b[39m\u001b[38;5;124mresponses\u001b[39m\u001b[38;5;124m\"\u001b[39m][model_name] \u001b[38;5;241m=\u001b[39m \u001b[43mresponse\u001b[49m\u001b[38;5;241;43m.\u001b[39;49m\u001b[43mtext\u001b[49m\u001b[38;5;241m.\u001b[39mstrip()\n\u001b[1;32m      6\u001b[0m     \u001b[38;5;28mprint\u001b[39m(\u001b[38;5;124m\"\u001b[39m\u001b[38;5;124mGemini:\u001b[39m\u001b[38;5;124m\"\u001b[39m, response\u001b[38;5;241m.\u001b[39mtext\u001b[38;5;241m.\u001b[39mstrip(), \u001b[38;5;124m\"\u001b[39m\u001b[38;5;124mHuman:\u001b[39m\u001b[38;5;124m\"\u001b[39m, entry[\u001b[38;5;124m\"\u001b[39m\u001b[38;5;124mhuman_annotation\u001b[39m\u001b[38;5;124m\"\u001b[39m])\n\u001b[1;32m      7\u001b[0m     time\u001b[38;5;241m.\u001b[39msleep(delay_seconds)\n",
      "File \u001b[0;32m~/.local/lib/python3.12/site-packages/google/generativeai/types/generation_types.py:401\u001b[0m, in \u001b[0;36mBaseGenerateContentResponse.text\u001b[0;34m(self)\u001b[0m\n\u001b[1;32m    399\u001b[0m parts \u001b[38;5;241m=\u001b[39m \u001b[38;5;28mself\u001b[39m\u001b[38;5;241m.\u001b[39mparts\n\u001b[1;32m    400\u001b[0m \u001b[38;5;28;01mif\u001b[39;00m \u001b[38;5;129;01mnot\u001b[39;00m parts:\n\u001b[0;32m--> 401\u001b[0m     \u001b[38;5;28;01mraise\u001b[39;00m \u001b[38;5;167;01mValueError\u001b[39;00m(\n\u001b[1;32m    402\u001b[0m         \u001b[38;5;124m\"\u001b[39m\u001b[38;5;124mThe `response.text` quick accessor only works when the response contains a valid \u001b[39m\u001b[38;5;124m\"\u001b[39m\n\u001b[1;32m    403\u001b[0m         \u001b[38;5;124m\"\u001b[39m\u001b[38;5;124m`Part`, but none was returned. Check the `candidate.safety_ratings` to see if the \u001b[39m\u001b[38;5;124m\"\u001b[39m\n\u001b[1;32m    404\u001b[0m         \u001b[38;5;124m\"\u001b[39m\u001b[38;5;124mresponse was blocked.\u001b[39m\u001b[38;5;124m\"\u001b[39m\n\u001b[1;32m    405\u001b[0m     )\n\u001b[1;32m    407\u001b[0m \u001b[38;5;28;01mif\u001b[39;00m \u001b[38;5;28mlen\u001b[39m(parts) \u001b[38;5;241m!=\u001b[39m \u001b[38;5;241m1\u001b[39m \u001b[38;5;129;01mor\u001b[39;00m \u001b[38;5;124m\"\u001b[39m\u001b[38;5;124mtext\u001b[39m\u001b[38;5;124m\"\u001b[39m \u001b[38;5;129;01mnot\u001b[39;00m \u001b[38;5;129;01min\u001b[39;00m parts[\u001b[38;5;241m0\u001b[39m]:\n\u001b[1;32m    408\u001b[0m     \u001b[38;5;28;01mraise\u001b[39;00m \u001b[38;5;167;01mValueError\u001b[39;00m(\n\u001b[1;32m    409\u001b[0m         \u001b[38;5;124m\"\u001b[39m\u001b[38;5;124mThe `response.text` quick accessor only works for \u001b[39m\u001b[38;5;124m\"\u001b[39m\n\u001b[1;32m    410\u001b[0m         \u001b[38;5;124m\"\u001b[39m\u001b[38;5;124msimple (single-`Part`) text responses. This response is not simple text. \u001b[39m\u001b[38;5;124m\"\u001b[39m\n\u001b[0;32m   (...)\u001b[0m\n\u001b[1;32m    413\u001b[0m         \u001b[38;5;124m\"\u001b[39m\u001b[38;5;124minstead.\u001b[39m\u001b[38;5;124m\"\u001b[39m\n\u001b[1;32m    414\u001b[0m     )\n",
      "\u001b[0;31mValueError\u001b[0m: The `response.text` quick accessor only works when the response contains a valid `Part`, but none was returned. Check the `candidate.safety_ratings` to see if the response was blocked."
     ]
    }
   ],
   "source": [
    "with open(\"../spatial-temporal-physical/spatial-temporal-physical.json\") as f:\n",
    "    spatial_temporal_physical_prompts = json.load(f)\n",
    "    for entry in spatial_temporal_physical_prompts:\n",
    "        response = model.generate_content(entry[\"prompt\"])\n",
    "        entry[\"responses\"][model_name] = response.text.strip()\n",
    "        print(\"Gemini:\", response.text.strip(), \"Human:\", entry[\"human_annotation\"])\n",
    "        time.sleep(delay_seconds)"
   ]
  },
  {
   "cell_type": "code",
   "execution_count": 43,
   "id": "bdb385a1-ad09-4b0b-b127-96581524964b",
   "metadata": {},
   "outputs": [],
   "source": [
    "with open(\"../spatial-temporal-physical/spatial-temporal-physical.json\", \"w\", encoding=\"utf-8\") as output_file:\n",
    "    json.dump(spatial_temporal_physical_prompts, output_file, indent=2, ensure_ascii=False)"
   ]
  },
  {
   "cell_type": "code",
   "execution_count": null,
   "id": "5d2c19c6-bbbe-4443-9ac7-7b66a0fdc0b6",
   "metadata": {},
   "outputs": [],
   "source": []
  }
 ],
 "metadata": {
  "kernelspec": {
   "display_name": "Python 3 (ipykernel)",
   "language": "python",
   "name": "python3"
  },
  "language_info": {
   "codemirror_mode": {
    "name": "ipython",
    "version": 3
   },
   "file_extension": ".py",
   "mimetype": "text/x-python",
   "name": "python",
   "nbconvert_exporter": "python",
   "pygments_lexer": "ipython3",
   "version": "3.12.2"
  }
 },
 "nbformat": 4,
 "nbformat_minor": 5
}
