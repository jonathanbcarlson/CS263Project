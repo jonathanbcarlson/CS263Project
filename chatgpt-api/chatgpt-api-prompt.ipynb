{
 "cells": [
  {
   "cell_type": "code",
   "execution_count": 6,
   "metadata": {},
   "outputs": [],
   "source": [
    "from openai import OpenAI\n",
    "from dotenv import load_dotenv\n",
    "import os\n",
    "\n",
    "load_dotenv()\n",
    "\n",
    "api_key = os.getenv('API_KEY')"
   ]
  },
  {
   "cell_type": "code",
   "execution_count": 7,
   "metadata": {},
   "outputs": [],
   "source": [
    "client = OpenAI(api_key=api_key)"
   ]
  },
  {
   "cell_type": "code",
   "execution_count": 9,
   "metadata": {},
   "outputs": [
    {
     "name": "stdout",
     "output_type": "stream",
     "text": [
      "ChatCompletion(id='chatcmpl-9VRhxKpvoLb52YZnIyZVoudmndxAf', choices=[Choice(finish_reason='stop', index=0, logprobs=None, message=ChatCompletionMessage(content='Machine Learning (ML) is a subset of artificial intelligence (AI) that focuses on developing algorithms and statistical models that enable computers to perform specific tasks without using explicit instructions. Instead, these systems rely on patterns and inference derived from data. In simpler terms, it allows machines to learn from examples and experience, improving their performance over time for specific tasks.\\n\\nKey concepts in Machine Learning include:\\n\\n1. **Data**: The foundational element for all machine learning tasks. It can be in various forms, such as text, images, audio, and numerical values.\\n\\n2. **Algorithms**: Procedures or formulas for solving problems. In ML, these are used to detect patterns in data. Examples include decision trees, neural networks, and support vector machines.\\n\\n3. **Models**: The output of a machine learning algorithm after being trained on data. This model is then used to make predictions or decisions based on new data.\\n\\n4. **Training**: The process of teaching an ML model by providing it with data and letting it adjust its parameters to improve performance.\\n\\n5. **Validation and Testing**: Processes to evaluate the performance of an ML model on unseen data to ensure it generalizes well and is not just overfitted to the training data.\\n\\n6. **Features**: The individual measurable properties or characteristics of a phenomenon being observed. Feature engineering is a crucial step that involves selecting the most relevant features for training a model.\\n\\nTypes of Machine Learning:\\n\\n1. **Supervised Learning**: The model is trained on a labeled dataset, which means that each training example is paired with an output label. Tasks include classification and regression.\\n\\n2. **Unsupervised Learning**: The model is given data without explicit instructions on what to do with it. It needs to find patterns and relationships within the data itself. Common tasks include clustering and dimensionality reduction.\\n\\n3. **Semi-Supervised Learning**: A hybrid approach where the model is trained on a small amount of labeled data and a large amount of unlabeled data.\\n\\n4. **Reinforcement Learning**: The model learns by interacting with an environment and receiving rewards or penalties based on its actions. It is often used in robotics, gaming, and navigation tasks.\\n\\nMachine Learning has a vast array of applications, including image and speech recognition, natural language processing, medical diagnosis, financial forecasting, and autonomous vehicles, among many others. As the field advances, machine learning continues to impact and improve various aspects of human life and industry.', role='assistant', function_call=None, tool_calls=None))], created=1717281705, model='gpt-4o-2024-05-13', object='chat.completion', system_fingerprint='fp_319be4768e', usage=CompletionUsage(completion_tokens=498, prompt_tokens=12, total_tokens=510))\n"
     ]
    }
   ],
   "source": [
    "\n",
    "chat_completion = client.chat.completions.create(\n",
    "    messages=[\n",
    "        {\n",
    "            \"role\": \"user\",\n",
    "            \"content\": \"What is Machine Learning?\",\n",
    "        },\n",
    "    ],\n",
    "    model=\"gpt-4o\"\n",
    ")\n",
    "\n",
    "print(chat_completion)"
   ]
  }
 ],
 "metadata": {
  "kernelspec": {
   "display_name": "Python 3",
   "language": "python",
   "name": "python3"
  },
  "language_info": {
   "codemirror_mode": {
    "name": "ipython",
    "version": 3
   },
   "file_extension": ".py",
   "mimetype": "text/x-python",
   "name": "python",
   "nbconvert_exporter": "python",
   "pygments_lexer": "ipython3",
   "version": "3.11.6"
  }
 },
 "nbformat": 4,
 "nbformat_minor": 2
}
