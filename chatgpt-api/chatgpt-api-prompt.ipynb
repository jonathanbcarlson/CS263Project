{
 "cells": [
  {
   "cell_type": "code",
   "execution_count": 1,
   "metadata": {},
   "outputs": [],
   "source": [
    "from openai import OpenAI\n",
    "from dotenv import load_dotenv\n",
    "import os\n",
    "\n",
    "load_dotenv()\n",
    "\n",
    "api_key = os.getenv('API_KEY')"
   ]
  },
  {
   "cell_type": "code",
   "execution_count": 2,
   "metadata": {},
   "outputs": [],
   "source": [
    "client = OpenAI(api_key=api_key)"
   ]
  },
  {
   "cell_type": "code",
   "execution_count": 6,
   "metadata": {},
   "outputs": [],
   "source": [
    "\n",
    "def ask_chatgpt_4(prompt):\n",
    "    chat_completion = client.chat.completions.create(\n",
    "        messages=[\n",
    "            {\n",
    "                \"role\": \"user\",\n",
    "                \"content\": prompt,\n",
    "            },\n",
    "        ],\n",
    "        model=\"gpt-4o\"\n",
    "    )\n",
    "    return chat_completion"
   ]
  },
  {
   "cell_type": "code",
   "execution_count": 8,
   "metadata": {},
   "outputs": [
    {
     "name": "stdout",
     "output_type": "stream",
     "text": [
      "ChatCompletion(id='chatcmpl-9VXF9n2fFCFrimgSuQQeqBDQQHO5h', choices=[Choice(finish_reason='stop', index=0, logprobs=None, message=ChatCompletionMessage(content=\"The question of the meaning of life has been a central philosophical and existential inquiry for centuries, and it often varies depending on cultural, religious, personal, and philosophical perspectives. Here are a few broad perspectives:\\n\\n1. **Religious Views**:\\n   - **Christianity**: The purpose of life is often seen as knowing, loving, and serving God and preparing for an eternal life with Him.\\n   - **Islam**: Life is viewed as a test from God, where individuals must live righteously according to the teachings of the Qur'an to earn a place in the afterlife.\\n   - **Hinduism**: Life is about fulfilling one’s dharma (duties) and striving towards moksha (liberation from the cycle of rebirth).\\n   - **Buddhism**: The goal is to attain enlightenment (Nirvana) through the Eightfold Path, ending the cycle of suffering and rebirth.\\n\\n2. **Philosophical Perspectives**:\\n   - **Existentialism**: Life has no inherent meaning, and it is up to each individual to create their own purpose through actions and choices.\\n   - **Absurdism**: Life may inherently lack meaning, but one can find personal significance and joy in defying this absurdity.\\n   - **Hedonism**: The pursuit of pleasure and avoidance of pain are seen as the primary or most important goals of life.\\n\\n3. **Scientific and Secular Humanism**:\\n   - From a scientific viewpoint, humans are seen as a result of evolutionary processes, and meaning is not necessarily intrinsic but can be constructed through understanding, exploration, and improving human conditions.\\n   - **Humanism**: Emphasizes the value and agency of human beings and suggests creating meaning through relationships, community service, and the pursuit of knowledge and compassion.\\n\\n4. **Personal Interpretation**:\\n   - Many people find meaning through their relationships, work, passions, and contributions to society. It’s often a deeply personal process that varies considerably from one individual to another.\\n\\nUltimately, the meaning of life is a subjective question, and the answer may depend heavily on individual beliefs, experiences, and perspectives.\", role='assistant', function_call=None, tool_calls=None))], created=1717302983, model='gpt-4o-2024-05-13', object='chat.completion', system_fingerprint='fp_319be4768e', usage=CompletionUsage(completion_tokens=441, prompt_tokens=13, total_tokens=454))\n"
     ]
    }
   ],
   "source": [
    "ans = ask_chatgpt_4(\"What is the meaning to life\")\n",
    "print(ans)"
   ]
  },
  {
   "cell_type": "code",
   "execution_count": 11,
   "metadata": {},
   "outputs": [
    {
     "name": "stdout",
     "output_type": "stream",
     "text": [
      "The question of the meaning of life has been a central philosophical and existential inquiry for centuries, and it often varies depending on cultural, religious, personal, and philosophical perspectives. Here are a few broad perspectives:\n",
      "\n",
      "1. **Religious Views**:\n",
      "   - **Christianity**: The purpose of life is often seen as knowing, loving, and serving God and preparing for an eternal life with Him.\n",
      "   - **Islam**: Life is viewed as a test from God, where individuals must live righteously according to the teachings of the Qur'an to earn a place in the afterlife.\n",
      "   - **Hinduism**: Life is about fulfilling one’s dharma (duties) and striving towards moksha (liberation from the cycle of rebirth).\n",
      "   - **Buddhism**: The goal is to attain enlightenment (Nirvana) through the Eightfold Path, ending the cycle of suffering and rebirth.\n",
      "\n",
      "2. **Philosophical Perspectives**:\n",
      "   - **Existentialism**: Life has no inherent meaning, and it is up to each individual to create their own purpose through actions and choices.\n",
      "   - **Absurdism**: Life may inherently lack meaning, but one can find personal significance and joy in defying this absurdity.\n",
      "   - **Hedonism**: The pursuit of pleasure and avoidance of pain are seen as the primary or most important goals of life.\n",
      "\n",
      "3. **Scientific and Secular Humanism**:\n",
      "   - From a scientific viewpoint, humans are seen as a result of evolutionary processes, and meaning is not necessarily intrinsic but can be constructed through understanding, exploration, and improving human conditions.\n",
      "   - **Humanism**: Emphasizes the value and agency of human beings and suggests creating meaning through relationships, community service, and the pursuit of knowledge and compassion.\n",
      "\n",
      "4. **Personal Interpretation**:\n",
      "   - Many people find meaning through their relationships, work, passions, and contributions to society. It’s often a deeply personal process that varies considerably from one individual to another.\n",
      "\n",
      "Ultimately, the meaning of life is a subjective question, and the answer may depend heavily on individual beliefs, experiences, and perspectives.\n"
     ]
    }
   ],
   "source": [
    "print(ans.choices[0].message.content)"
   ]
  },
  {
   "cell_type": "code",
   "execution_count": 7,
   "metadata": {},
   "outputs": [],
   "source": [
    "\n",
    "def ask_chatgpt_3(prompt):\n",
    "    chat_completion = client.chat.completions.create(\n",
    "        messages=[\n",
    "            {\n",
    "                \"role\": \"user\",\n",
    "                \"content\": prompt,\n",
    "            },\n",
    "        ],\n",
    "        model=\"gpt-3.5-turbo-0125\"\n",
    "    )\n",
    "    return chat_completion\n"
   ]
  },
  {
   "cell_type": "code",
   "execution_count": null,
   "metadata": {},
   "outputs": [],
   "source": [
    "import json\n",
    "from tqdm import tqdm\n",
    "\n",
    "def get_llm_output(prompt: str):\n",
    "    gpt4_answer = ask_chatgpt_4(prompt)\n",
    "    text4 = gpt4_answer.choices[0].message.content\n",
    "    gpt3_answer = ask_chatgpt_3(prompt)\n",
    "    text3 = gpt3_answer.choices[0].message.content\n",
    "    return text4, text3\n",
    "\n",
    "prompt_dirs = [\n",
    "    \"spatial-physical\",\n",
    "    \"physical-temporal\",\n",
    "    \"spatial-temporal\",\n",
    "    \"spatial-temporal-physical\",\n",
    "]\n",
    "\n",
    "for dir in prompt_dirs:\n",
    "    prompts_json_filename = f\"../{dir}/{dir}.json\"\n",
    "    with open(prompts_json_filename, \"r\") as prompts_file:\n",
    "        prompts = json.load(prompts_file)\n",
    "        for prompt in tqdm(prompts):\n",
    "            gpt4_out, gpt3_out = get_llm_output(prompt[\"prompt\"])\n",
    "            responses = prompt.get(\"responses\", {})\n",
    "            responses[\"ChatGPT4o\"] = gpt4_out\n",
    "            responses[\"ChatGPT3.5\"] = gpt3_out\n",
    "            prompt[\"responses\"] = responses\n",
    "    with open(prompts_json_filename, \"w\") as new_prompts_file:\n",
    "        json.dump(prompts, new_prompts_file, indent=2, ensure_ascii=False)\n"
   ]
  }
 ],
 "metadata": {
  "kernelspec": {
   "display_name": "Python 3",
   "language": "python",
   "name": "python3"
  },
  "language_info": {
   "codemirror_mode": {
    "name": "ipython",
    "version": 3
   },
   "file_extension": ".py",
   "mimetype": "text/x-python",
   "name": "python",
   "nbconvert_exporter": "python",
   "pygments_lexer": "ipython3",
   "version": "3.11.6"
  }
 },
 "nbformat": 4,
 "nbformat_minor": 2
}
